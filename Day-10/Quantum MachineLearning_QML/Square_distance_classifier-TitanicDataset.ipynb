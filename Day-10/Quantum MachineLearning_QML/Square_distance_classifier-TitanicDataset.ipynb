{
 "cells": [
  {
   "cell_type": "code",
   "execution_count": 11,
   "metadata": {},
   "outputs": [
    {
     "name": "stderr",
     "output_type": "stream",
     "text": [
      "Credentials are already in use. The existing account in the session will be replaced.\n"
     ]
    }
   ],
   "source": [
    "%matplotlib inline\n",
    "# Importing standard Qiskit libraries and configuring account\n",
    "from qiskit import QuantumCircuit, execute, Aer, IBMQ\n",
    "from qiskit.compiler import transpile, assemble\n",
    "from qiskit.tools.jupyter import *\n",
    "from qiskit.visualization import *\n",
    "# Loading your IBM Q account(s)\n",
    "provider = IBMQ.load_account()"
   ]
  },
  {
   "cell_type": "code",
   "execution_count": 12,
   "metadata": {},
   "outputs": [
    {
     "data": {
      "text/plain": [
       "<qiskit.circuit.instructionset.InstructionSet at 0x7f71b6ac6668>"
      ]
     },
     "execution_count": 12,
     "metadata": {},
     "output_type": "execute_result"
    }
   ],
   "source": [
    "# File: Schuld_Petruccion_2018_dev.py\n",
    "#\n",
    "# Qiskit Quantum Machine Learning Example (device version)\n",
    "# from Section 1.2.3 in Ref. [Schuld & Petruccione, 2018]\n",
    "# Note: In [Schuld & Petruccione, 2018] there is an error p. 16, 3rd equation.\n",
    "#\n",
    "# Author: Michel Barbeau, Carleton University\n",
    "# Version: April 23, 2019\n",
    "#\n",
    "# Author 2: Amended by Chahan Kropf, INFN Pavia\n",
    "# Version December 25, 2019\n",
    "#\n",
    "# Sample execution:\n",
    "#   pythonw Schuld_Petruccion_2018_dev.py \n",
    "#   Available backends:\n",
    "#   [<IBMQBackend('ibmqx4') from IBMQ()>, <IBMQBackend('ibmqx2') from IBMQ()>, <IBMQBackend('ibmq_16_melbourne') from IBMQ()>, <IBMQBackend('ibmq_qasm_simulator') from IBMQ()>]\n",
    "#   The best backend is ibmqx2\n",
    "#   Job Status: job has successfully run\n",
    "#   Probability of label 0 (1) is 0.581 (0.419)\n",
    "#\n",
    "# Init of Qiskit environment\n",
    "#\n",
    "# Qiskit numbers qubits right to left: q3,q2,q1,q0\n",
    "# Corresponding Python qubits are: q[3],q[2],q[1],q[0]\n",
    "#\n",
    "\n",
    "import numpy as np\n",
    "from qiskit import QuantumCircuit, ClassicalRegister, QuantumRegister\n",
    "from qiskit import execute\n",
    "import math\n",
    "import numpy\n",
    "\n",
    "#\n",
    "# State and circuit creation\n",
    "#\n",
    "# Create a 4 qubit quantum register\n",
    "q = QuantumRegister(4)\n",
    "# Create a classical register for measurements\n",
    "c = ClassicalRegister(2)\n",
    "# Create a quantum circuit with innput q & output c\n",
    "circ = QuantumCircuit(q,c)\n",
    "# Initialize the register content\n",
    "v = numpy.zeros(16)\n",
    "v[ 1] = 0.920843009649141/2 # |0001>\n",
    "v[ 3] = 0.389933522001265/2 # |0011>\n",
    "v[ 4] = 0.141001339519088/2 # |0100>\n",
    "v[ 6] = 0.990009405134023/2 # |0110>\n",
    "v[ 9] = 0.866019052628739/2 # |1001>\n",
    "v[11] = 0.500011000363013/2 # |1011>\n",
    "v[12] = 0.866019052628739/2 # |1100>\n",
    "v[14] = 0.500011000363013/2 # |1110>\n",
    "circ.initialize(v, q)\n",
    "# Add a H gate on qubit 3 (leftmost)\n",
    "circ.h(q[3])\n",
    "# Measure leftmost qubit\n",
    "circ.measure(q[3], c[1])\n",
    "# Measure rightmost qubit\n",
    "circ.measure(q[0], c[0])"
   ]
  },
  {
   "cell_type": "code",
   "execution_count": null,
   "metadata": {},
   "outputs": [],
   "source": [
    "\n",
    "\n",
    "# Running on IBM Q simulator\n",
    "#\n",
    "from qiskit import Aer\n",
    "#\n",
    "# List available simulator\n",
    "print(\"Available backends:\")\n",
    "print(Aer.backends())\n",
    "# Choose simulator\n",
    "backend = Aer.get_backend('qasm_simulator')\n",
    "print(\"The best backend is \" + backend.name())\n",
    "# Execute the circuit\n",
    "from qiskit.tools.monitor import job_monitor\n",
    "# Number of shots to run the program\n",
    "shots = 1024\n",
    "# Maximum number of credits to spend on executions\n",
    "max_credits = 3\n",
    "job = execute(circ, backend=backend, shots=shots, max_credits=max_credits)\n",
    "job_monitor(job)\n",
    "# Wait until the job has finished\n",
    "result = job.result()\n",
    "#\n",
    "# Print the results \n",
    "#\n",
    "counts = result.get_counts(circ)\n",
    "# Calculate probability of label 1\n",
    "# q4=0 & q0=1 over q4=0 & (q0=0 or q0=1)\n",
    "p1 = counts.get('01',0) / (counts.get('00',0)+counts.get('01')) \n",
    "print(\"Probability of label 0 (1) is %.3f (%.3f)\" % ((1-p1),p1))"
   ]
  },
  {
   "cell_type": "code",
   "execution_count": 13,
   "metadata": {},
   "outputs": [
    {
     "name": "stdout",
     "output_type": "stream",
     "text": [
      "[<IBMQSimulator('ibmq_qasm_simulator') from IBMQ(hub='ibm-q', group='open', project='main')>, <IBMQBackend('ibmqx2') from IBMQ(hub='ibm-q', group='open', project='main')>, <IBMQBackend('ibmq_16_melbourne') from IBMQ(hub='ibm-q', group='open', project='main')>, <IBMQBackend('ibmq_vigo') from IBMQ(hub='ibm-q', group='open', project='main')>, <IBMQBackend('ibmq_ourense') from IBMQ(hub='ibm-q', group='open', project='main')>, <IBMQBackend('ibmq_london') from IBMQ(hub='ibm-q', group='open', project='main')>, <IBMQBackend('ibmq_burlington') from IBMQ(hub='ibm-q', group='open', project='main')>, <IBMQBackend('ibmq_essex') from IBMQ(hub='ibm-q', group='open', project='main')>, <IBMQBackend('ibmq_armonk') from IBMQ(hub='ibm-q', group='open', project='main')>]\n",
      "The chosen backend is ibmq_burlington\n",
      "Job Status: job has successfully run\n",
      "Probability of label 0 (1) is 0.475 (0.525)\n"
     ]
    }
   ],
   "source": [
    "# Running on IBM Q computer\n",
    "#\n",
    "# Get the available computers\n",
    "provider = IBMQ.get_provider(group='open')\n",
    "#\n",
    "#Print the available backends\n",
    "print(provider.backends())\n",
    "#\n",
    "# Choose backend (check the length of the queue!)\n",
    "backend = provider.get_backend('ibmq_burlington')\n",
    "#\n",
    "print(\"The chosen backend is \" + backend.name())\n",
    "# Execute the circuit\n",
    "from qiskit.tools.monitor import job_monitor\n",
    "# Number of shots to run the program\n",
    "shots = 1024\n",
    "# Maximum number of credits to spend on executions\n",
    "max_credits = 3\n",
    "job = execute(circ, backend=backend, shots=shots, max_credits=max_credits)\n",
    "job_monitor(job)\n",
    "# Wait until the job has finished\n",
    "result = job.result()\n",
    "#\n",
    "# Print the results \n",
    "#\n",
    "counts = result.get_counts(circ)\n",
    "# Calculate probability of label 1\n",
    "# q4=0 & q0=1 over q4=0 & (q0=0 or q0=1)\n",
    "p1 = counts.get('01',0) / (counts.get('00',0)+counts.get('01')) \n",
    "print(\"Probability of label 0 (1) is %.3f (%.3f)\" % ((1-p1),p1))"
   ]
  },
  {
   "cell_type": "code",
   "execution_count": null,
   "metadata": {},
   "outputs": [],
   "source": []
  }
 ],
 "metadata": {
  "kernelspec": {
   "display_name": "Python 3",
   "language": "python",
   "name": "python3"
  },
  "language_info": {
   "codemirror_mode": {
    "name": "ipython",
    "version": 3
   },
   "file_extension": ".py",
   "mimetype": "text/x-python",
   "name": "python",
   "nbconvert_exporter": "python",
   "pygments_lexer": "ipython3",
   "version": "3.7.3"
  }
 },
 "nbformat": 4,
 "nbformat_minor": 2
}
